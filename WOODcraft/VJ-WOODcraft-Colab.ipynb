{
  "nbformat": 4,
  "nbformat_minor": 0,
  "metadata": {
    "colab": {
      "provenance": []
    },
    "kernelspec": {
      "name": "python3",
      "display_name": "Python 3"
    },
    "language_info": {
      "name": "python"
    }
  },
  "cells": [
    {
      "cell_type": "markdown",
      "source": [
        "\n",
        "---\n",
        "\n",
        "\n",
        "#### <font color=Green size=4><b>❤️ Thanks To Tech VJ For Modify & Added Login Feature.</b></font>\n",
        "\n",
        "---\n",
        "---\n",
        "\n",
        "\n",
        "#### <font color=Green size=4><b>📂 VJ-Save-Restricted-Content Bot</b></font>\n",
        "\n",
        "---\n",
        "\n",
        "<font color=GREEN size=4><b>[𝐖𝐎𝐎𝐃𝐜𝐫𝐚𝐟𝐭](https://t.me/Farooq_is_KING)</b></font>\n",
        "<!-- WOODcraft -->\n",
        "<center><img src=\"https://github.com/SudoR2spr/SudoR2spr/raw/main/assets/line-neon.gif\" width=\"100%\">\n",
        "\n",
        "<!-- GF ANGEL -->\n",
        "<center><img src=\"https://raw.githubusercontent.com/SudoR2spr/SudoR2spr/main/assets/angel-op/VJ-Colab.png\" alt=\"Save Restricted Bot Logo\" height=\"150\"></center>\n",
        "<img src=\"https://github.com/SudoR2spr/SudoR2spr/raw/main/assets/line-neon.gif\" width=\"100%\">\n",
        "\n",
        "\n",
        "[![Typing SVG](https://readme-typing-svg.herokuapp.com?font=Fira+Code&pause=1000&color=4250F7&background=FF512800&center=true&vCenter=true&width=435&lines=%F0%9D%90%96%F0%9D%90%8E%F0%9D%90%8E%F0%9D%90%83%F0%9D%90%9C%F0%9D%90%AB%F0%9D%90%9A%F0%9D%90%9F%F0%9D%90%AD+%F0%9D%90%8C%F0%9D%90%A2%F0%9D%90%AB%F0%9D%90%AB%F0%9D%90%A8%F0%9D%90%AB+%F0%9D%90%99%F0%9D%90%A8%F0%9D%90%A7%F0%9D%90%9E%E2%84%A2)](https://git.io/typing-svg)</p></center>"
      ],
      "metadata": {
        "id": "51cGSr53_xm3"
      }
    },
    {
      "cell_type": "code",
      "execution_count": 1,
      "metadata": {
        "id": "3htKaQ9__Jdl",
        "outputId": "a8b7b8d9-832b-46dc-ad52-e3f0ad0bd611",
        "colab": {
          "base_uri": "https://localhost:8080/"
        }
      },
      "outputs": [
        {
          "output_type": "stream",
          "name": "stdout",
          "text": [
            "Installing FFMPEG...\n",
            "✔️ FFMPEG installed successfully!\n"
          ]
        }
      ],
      "source": [
        "import os\n",
        "import shutil\n",
        "from IPython.display import clear_output\n",
        "\n",
        "\n",
        "#@markdown <font color=ORANGE>🔗 Please enter the GitHub repository URL: 🔗\n",
        "GITHUB_URL = \"https://github.com/shivensh/itsgolu2-\"  #@param {type:\"string\"}\n",
        "\n",
        "# Determine base directory based on environment\n",
        "base_dir = './repo'  # Save repo in ./repo directory relative to current directory\n",
        "\n",
        "# Function to clone or update the repository\n",
        "def clone_or_update_repo(repo_url, base_directory):\n",
        "    repo_name = os.path.basename(repo_url).replace('.git', '')\n",
        "    project_dir = os.path.join(base_directory, repo_name)\n",
        "\n",
        "    # Check if the repository directory exists\n",
        "    if os.path.exists(project_dir):\n",
        "        print(f\"Deleting existing repository at: {project_dir} ...\")\n",
        "        shutil.rmtree(project_dir)\n",
        "        print(\"Deleted existing repository successfully!\")\n",
        "\n",
        "    # Clone the repository\n",
        "    print(f\"Cloning repository from {repo_url}...\")\n",
        "    clone_cmd = f\"git clone {repo_url} {project_dir}\"\n",
        "    os.system(clone_cmd)\n",
        "    print(\"✔️ Repository cloned successfully!\")\n",
        "\n",
        "    return project_dir\n",
        "\n",
        "# Clone or update the repository\n",
        "project_dir = clone_or_update_repo(GITHUB_URL, base_dir)\n",
        "\n",
        "# Navigate to the project directory\n",
        "print(f\"Entering project directory: {os.path.basename(project_dir)}...\")\n",
        "os.chdir(project_dir)\n",
        "print(\"Entered project directory successfully!\")\n",
        "\n",
        "clear_output()\n",
        "\n",
        "#@markdown <font color=ORANGE>🔧 Please enter the requirements.txt file path: 🔧\n",
        "PIP_INSTALL = \"requirements.txt\"  #@param {type:\"string\"}\n",
        "\n",
        "# Install required dependencies\n",
        "print(\"Installing required dependencies...\")\n",
        "!pip install -r {PIP_INSTALL}\n",
        "print(\"✔️ All requirements installed successfully!\")\n",
        "\n",
        "clear_output()\n",
        "\n",
        "#@markdown <font color=ORANGE>🎥 Install FFMPEG? 🎥\n",
        "install_ffmpeg = \"Yes\"  #@param [\"Yes\", \"No\"]\n",
        "if install_ffmpeg == \"Yes\":\n",
        "    print(\"Installing FFMPEG...\")\n",
        "    os.system(\"apt-get install ffmpeg -qq\")  # Install ffmpeg quietly\n",
        "    print(\"✔️ FFMPEG installed successfully!\")\n",
        "else:\n",
        "    print(\"✔️ Skipping FFMPEG installation.\")\n"
      ]
    },
    {
      "cell_type": "code",
      "source": [
        "# @markdown <font color=Green size=4><b>🔧 Environment Variables 🔧</b></font>\n",
        "# @markdown <center><img src=\"https://raw.githubusercontent.com/SudoR2spr/SudoR2spr/main/assets/angel-op/VJ-Colab.png\" alt=\"Restricted content  logo\" height=\"150\"></center>\n",
        "# @markdown <p>⬤ Use <b>A Telegram Bot, Which can send you restricted content by it's post link with login feature <b>Ohh Bhai</b></p>\n",
        "\n",
        "\n",
        "#@markdown <font color=green>✍️ Paste Your Telegram API ID From ≫ my.telegram.org { display-mode: \"form\" }\n",
        "\n",
        "API_ID = \"2695501\"  #@param {type:\"string\"}\n",
        "os.environ['API_ID'] = API_ID\n",
        "\n",
        "#@markdown <font color=green>✍️ Paste Your Telegram API HASH From ≫ my.telegram.org { display-mode: \"form\" }\n",
        "\n",
        "API_HASH = \"9a544068ea55f54ca7725245d0e8f0f9\"  #@param {type:\"string\"}\n",
        "os.environ['API_HASH'] = API_HASH\n",
        "\n",
        "#@markdown <font color=green>✍️ Paste Your Telegram BOT TOKEN From ≫ @BotFather { display-mode: \"form\" }\n",
        "\n",
        "BOT_TOKEN = \"7702148303:AAGS_CKFS6lZHp7eq8pHKsf9bT4uPGDzPSM\"  #@param {type:\"string\"}\n",
        "os.environ['BOT_TOKEN'] = BOT_TOKEN\n",
        "\n",
        "#@markdown <font color=green>✍️ Paste Your Mongodb Database Url from mongodb.com ≫ mongodb.com { display-mode: \"form\" }\n",
        "\n",
        "DB_URI = \"mongodb+srv://itsgolu:<db_password>@cluster0.guknlqp.mongodb.net/?retryWrites=true&w=majority&appName=Cluster0\"  #@param {type:\"string\"}\n",
        "os.environ['DB_URI'] = DB_URI\n",
        "\n",
        "clear_output()\n",
        "\n",
        "#@markdown <font color=Blue>🔧 Please enter the RUN command: 🔧\n",
        "RUN_COMMAND = \"python3 bot.py\"  #@param {type:\"string\"}\n",
        "\n",
        "print(\".\")\n",
        "\n",
        "banner = '''\n",
        "█░█░█ █▀█ █▀█ █▀▄ █▀▀ █▀█ ▄▀█ █▀▀ ▀█▀\n",
        "▀▄▀▄▀ █▄█ █▄█ █▄▀ █▄▄ █▀▄ █▀█ █▀░ ░█░'''\n",
        "\n",
        "print(banner)\n",
        "\n",
        "# Run the bot\n",
        "print(f\"Running command: {RUN_COMMAND} ...\")\n",
        "!{RUN_COMMAND}\n",
        "print(\"...\")\n",
        "print(\"✅ 𝐒𝐮𝐜𝐜𝐞𝐬𝐬𝐟𝐮𝐥𝐥𝐲 𝐃𝐨𝐧𝐞...\")\n",
        "\n"
      ],
      "metadata": {
        "cellView": "form",
        "id": "XNFNaGxEA_to"
      },
      "execution_count": null,
      "outputs": []
    },
    {
      "cell_type": "markdown",
      "source": [
        "\n",
        "\n",
        "---\n",
        "\n",
        "\n",
        "<center><fornt><b>🔧 ⎔〓 ᑭᵒʷᵉʳᵉᵈ • ᵇʸ 〓⎔ <font color=Green size=4><b> 🔗 𝐖𝐎𝐎𝐃𝐜𝐫𝐚𝐟𝐭</b></font></center>\n",
        "\n",
        "---\n",
        "\n"
      ],
      "metadata": {
        "id": "osgWPRdBHO7C"
      }
    }
  ]
}